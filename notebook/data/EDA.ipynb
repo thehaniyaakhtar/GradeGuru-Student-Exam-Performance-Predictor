{
  "cells": [
    {
      "cell_type": "markdown",
      "metadata": {
        "id": "5SJo_k5OtI77"
      },
      "source": [
        "## Import required libraries"
      ]
    },
    {
      "cell_type": "code",
      "execution_count": null,
      "metadata": {
        "id": "SK0k3KmBssIe"
      },
      "outputs": [],
      "source": [
        "import numpy as np\n",
        "import pandas as pd\n",
        "import seaborn as sns\n",
        "import matplotlib.pyplot as plt\n",
        "%matplotlib inline\n",
        "import warnings\n",
        "warnings.filterwarnings('ignore')"
      ]
    },
    {
      "cell_type": "markdown",
      "metadata": {
        "id": "mYeOzz7MtQf-"
      },
      "source": [
        "## Understanding the data"
      ]
    },
    {
      "cell_type": "code",
      "execution_count": null,
      "metadata": {
        "id": "fuDztJx6tEc-"
      },
      "outputs": [],
      "source": [
        "df = pd.read_csv('/content/StudentPerformanceFactors.csv')"
      ]
    },
    {
      "cell_type": "code",
      "execution_count": null,
      "metadata": {
        "id": "Qex5shR1ta_7"
      },
      "outputs": [],
      "source": [
        "df.head()"
      ]
    },
    {
      "cell_type": "code",
      "execution_count": null,
      "metadata": {
        "id": "NpXvw5F_tc_h"
      },
      "outputs": [],
      "source": [
        "df.shape"
      ]
    },
    {
      "cell_type": "code",
      "execution_count": null,
      "metadata": {
        "id": "ZpB-FHJRtflo"
      },
      "outputs": [],
      "source": [
        "#Checking missing values\n",
        "df.isnull().sum()"
      ]
    },
    {
      "cell_type": "markdown",
      "metadata": {
        "id": "I1XHg_mjuM1O"
      },
      "source": [
        "Observations:\n",
        "- Teacher Quality -> 78\n",
        "- Parental Education Level -> 90\n",
        "- Distance From Home -> 67"
      ]
    },
    {
      "cell_type": "code",
      "execution_count": null,
      "metadata": {
        "id": "TAKZe5VOuJu_"
      },
      "outputs": [],
      "source": [
        "# Checking Duplicates\n",
        "df.duplicated().sum()"
      ]
    },
    {
      "cell_type": "markdown",
      "metadata": {
        "id": "HHph5bwfuyG3"
      },
      "source": [
        "Observations:\n",
        "- No duplicates are present"
      ]
    },
    {
      "cell_type": "code",
      "execution_count": null,
      "metadata": {
        "id": "9q4bqfiSujeZ"
      },
      "outputs": [],
      "source": [
        "# Checking data types\n",
        "df.info()"
      ]
    },
    {
      "cell_type": "code",
      "execution_count": null,
      "metadata": {
        "id": "r9A5ciG5u3oD"
      },
      "outputs": [],
      "source": [
        "# Checking number of unique values in each column\n",
        "df.nunique()"
      ]
    },
    {
      "cell_type": "markdown",
      "metadata": {
        "id": "a9PCVWxHvrR_"
      },
      "source": [
        "Observations:\n",
        "\n",
        "Most unique values are contained in:\n",
        "- Hours Studied\n",
        "- Attendance\n",
        "- Previous Scores\n",
        "- Exam Scores"
      ]
    },
    {
      "cell_type": "code",
      "execution_count": null,
      "metadata": {
        "id": "16oVEIkKvX1O"
      },
      "outputs": [],
      "source": [
        "# Statistis of a dataset\n",
        "df.describe()"
      ]
    },
    {
      "cell_type": "markdown",
      "metadata": {
        "id": "hQAlsVxUv74R"
      },
      "source": [
        "(Measures of Central Tendency)\n",
        "- Hours Studied: mean, median ~ 20 hours, most students study around 20 hours\n",
        "- Attendace: mean, median ~ 80%, most students have good attendace\n",
        "- Sleep Hours: mean, median ~ 7 hours, most students sleep 7 hours on avg\n",
        "- Previous Scores: mean, median ~ 75, min ~ 50, student performance is decent at worst\n",
        "- Physical Activity: mean, median ~3, most students are decently active\n",
        "- Exam Scores: mean, median = 67, scores are centered around 67\n",
        "\n",
        "(Measures of Dispersion)\n",
        "- Hours Studied: std ~ 6, range: 1-44, High Variability\n",
        "- Attendance: Std ~ 11.5, range: 60-100, Few students have low attendance\n",
        "- Sleep Hours: Std ~ 1.4, range: 4-10, some students tend to get less hours of sleep\n",
        "- Previous Scores: Std ≈ 14.4, Range: 50–100 → Wide range in past scores.\n",
        "- Tutoring Sessions: Std ≈ 1.23, Range: 0–8 → Most students attend few sessions; some take many.\n",
        "- Physical Activity: Std ≈ 1.03, Range: 0–6 → Most students do 2–4 hours of activity.\n",
        "- Exam Score: Std ≈ 3.89, Range 55–101 → Exam scores are relatively concentrated but outliers exist\n",
        "\n",
        "Observations:\n",
        "Hours Studied, Previous Scores, Tutoring Sessions show greater variability\n"
      ]
    },
    {
      "cell_type": "markdown",
      "metadata": {
        "id": "w76Vhkxp00yG"
      },
      "source": [
        "## Exploring Data"
      ]
    },
    {
      "cell_type": "code",
      "execution_count": null,
      "metadata": {
        "id": "14gS8fvdvf4b"
      },
      "outputs": [],
      "source": [
        "print(\"Categories in 'Parental_Involvement' variable:\", end = \" \")\n",
        "print(df['Parental_Involvement'].unique())\n",
        "\n",
        "print(\"Categories in 'Access_to_Resources' variable:\", end = \" \")\n",
        "print(df['Access_to_Resources'].unique())\n",
        "\n",
        "print(\"Categories in 'Extracurricular_Activities' variable:\", end = \" \")\n",
        "print(df['Extracurricular_Activities'].unique())\n",
        "\n",
        "print(\"Categories in 'Motivation_Level' variable:\", end = \" \")\n",
        "print(df['Motivation_Level'].unique())\n",
        "\n",
        "print(\"Categories in 'Internet_Access' variable:\", end = \" \")\n",
        "print(df['Internet_Access'].unique())\n",
        "\n",
        "print(\"Categories in 'Family_Income' variable:\", end = \" \")\n",
        "print(df['Family_Income'].unique())\n",
        "\n",
        "print(\"Categories in 'Teacher_Quality' variable:\", end = \" \")\n",
        "print(df['Teacher_Quality'].unique())\n",
        "\n",
        "print(\"Categories in 'Peer_Influence' variable:\", end = \" \")\n",
        "print(df['Peer_Influence'].unique())\n",
        "\n",
        "print(\"Categories in 'Learning_Disabilities' variable:\", end = \" \")\n",
        "print(df['Learning_Disabilities'].unique())\n",
        "\n",
        "print(\"Categories in 'Parental_Education_Level' variable:\", end = \" \")\n",
        "print(df['Parental_Education_Level'].unique())\n",
        "\n",
        "print(\"Categories in 'Distance_from_Home' variable:\", end = \" \")\n",
        "print(df['Distance_from_Home'].unique())\n",
        "\n",
        "print(\"Categories in 'Gender' variable:\", end = \" \")\n",
        "print(df['Gender'].unique())"
      ]
    },
    {
      "cell_type": "code",
      "execution_count": null,
      "metadata": {
        "id": "8yoi7H9W1Kg1"
      },
      "outputs": [],
      "source": [
        "#defining numerical and categorical columns\n",
        "numeric_features = [feature for feature in df.columns if df[feature].dtype != 'O']\n",
        "categorical_features = [feature for feature in df.columns if df[feature].dtype == 'O']\n",
        "\n",
        "print(\"We have {} numeric features: {}\".format(len(numeric_features), numeric_features))\n",
        "print(\"We have {} categorical features: {}\".format(len(categorical_features), categorical_features))"
      ]
    },
    {
      "cell_type": "markdown",
      "metadata": {
        "id": "EaCIFjOe5G53"
      },
      "source": [
        "## Dealing with missing values"
      ]
    },
    {
      "cell_type": "code",
      "execution_count": null,
      "metadata": {
        "id": "390Kdk_E420G"
      },
      "outputs": [],
      "source": [
        "null_columns = df.columns[df.isnull().sum() > 0].tolist()\n",
        "print(null_columns)"
      ]
    },
    {
      "cell_type": "markdown",
      "metadata": {
        "id": "-QjyNteIAJDe"
      },
      "source": [
        "From previous observations:\n",
        "- Teacher Quality -> 78, Categorical\n",
        "- Parental Education Level -> 90, Categorical\n",
        "- Distance From Home -> 67, Categorical\n",
        "\n",
        "As all features with null values are categorical, and only make up a small fraction of the dataset, they can be filled with the most recurring values\n",
        "\n"
      ]
    },
    {
      "cell_type": "code",
      "execution_count": null,
      "metadata": {
        "id": "GlCjKYHBLIwg"
      },
      "outputs": [],
      "source": [
        "df['Parental_Education_Level'].mode()[0]"
      ]
    },
    {
      "cell_type": "code",
      "execution_count": null,
      "metadata": {
        "id": "Z4Xpp9ET_m9p"
      },
      "outputs": [],
      "source": [
        "for col in df.columns:\n",
        "  if df[col].isnull().sum() > 0:\n",
        "    mode_value = df[col].mode()[0]\n",
        "    df[col].fillna(mode_value, inplace = True)"
      ]
    },
    {
      "cell_type": "code",
      "execution_count": null,
      "metadata": {
        "id": "Kbb_wv0GBgC4"
      },
      "outputs": [],
      "source": [
        "df.isnull().sum()"
      ]
    },
    {
      "cell_type": "markdown",
      "metadata": {
        "id": "s85LR73HB1es"
      },
      "source": [
        "## Encoding Categorical Columns"
      ]
    },
    {
      "cell_type": "code",
      "execution_count": null,
      "metadata": {
        "id": "pcciIzISBxMf"
      },
      "outputs": [],
      "source": [
        "from sklearn.preprocessing import LabelEncoder\n",
        "\n",
        "le = LabelEncoder()\n",
        "\n",
        "df['Extracurricular_Activities_encoded'] = le.fit_transform(df['Extracurricular_Activities'])\n",
        "df['Internet_Access_encoded'] = le.fit_transform(df['Internet_Access'])\n",
        "df['Learning_Disabilities_encoded'] = le.fit_transform(df['Learning_Disabilities'])\n",
        "df['Gender_encoded'] = le.fit_transform(df['Gender'])\n",
        "df['School_Type_encoded'] = le.fit_transform(df['School_Type'])\n",
        "\n",
        "\n",
        "drop_features = ['Extracurricular_Activities', 'Internet_Access', 'Learning_Disabilities', 'Gender', 'School_Type' ]\n",
        "df.drop(drop_features, axis=1, inplace = True)\n"
      ]
    },
    {
      "cell_type": "code",
      "execution_count": null,
      "metadata": {
        "id": "r387cWRVC6tm"
      },
      "outputs": [],
      "source": [
        "# Ordinal Encoding\n",
        "Parental_Involvement_map = {'Low':0, 'Medium':1, 'High':2}\n",
        "df['Parental_Involvement_Encode'] = df['Parental_Involvement'].map(Parental_Involvement_map)\n",
        "\n",
        "Access_to_Resources_map = {'Low':0, 'Medium':1, 'High':2}\n",
        "df['Access_to_Resources_Encode'] = df['Access_to_Resources'].map(Access_to_Resources_map)\n",
        "\n",
        "Motivation_Level_map = {'Low':0, 'Medium':1, 'High':2}\n",
        "df['Motivation_Level_Encode'] = df['Motivation_Level'].map(Motivation_Level_map)\n",
        "\n",
        "Family_Income_map = {'Low':0, 'Medium':1, 'High':2}\n",
        "df['Family_Income_Encode'] = df['Family_Income'].map(Family_Income_map)\n",
        "\n",
        "Teacher_Quality_map = {'Low':0, 'Medium':1, 'High':2}\n",
        "df['Teacher_Quality_Encode'] = df['Teacher_Quality'].map(Teacher_Quality_map)\n",
        "\n",
        "Peer_Influence_map = {'Neutral':0, 'Negative':1, 'Positive':2}\n",
        "df['Peer_Influence_Encode'] = df['Peer_Influence'].map(Peer_Influence_map)\n",
        "\n",
        "Distance_from_Home_map = {'Near':0, 'Moderate':1, 'Far':2}\n",
        "df['Distance_from_Home'] = df['Distance_from_Home'].map(Distance_from_Home_map)\n",
        "\n",
        "Parental_Education_Level_map = {'High School':0, 'College':1, 'Postgraduate':2}\n",
        "df['Parental_Education_Level'] = df['Parental_Education_Level'].map(Parental_Education_Level_map)\n",
        "\n",
        "drop_features_ord = ['Parental_Involvement', 'Access_to_Resources', 'Motivation_Level', 'Family_Income', 'Teacher_Quality', 'Peer_Influence', 'Distance_from_Home', 'Parental_Education_Level' ]\n",
        "df.drop(drop_features_ord, axis=1, inplace = True)\n"
      ]
    },
    {
      "cell_type": "code",
      "execution_count": null,
      "metadata": {
        "id": "W3BPMZHOLqSH"
      },
      "outputs": [],
      "source": [
        "df.head()"
      ]
    },
    {
      "cell_type": "markdown",
      "metadata": {
        "id": "Yf72MthlMJb-"
      },
      "source": [
        "## Data Visualizations"
      ]
    },
    {
      "cell_type": "code",
      "execution_count": null,
      "metadata": {
        "id": "fsu_O8KSMI53"
      },
      "outputs": [],
      "source": [
        "# plotting a correlation graph\n",
        "corr_matrix = df.corr()\n",
        "plt.figure(figsize=(10, 8))\n",
        "sns.heatmap(corr_matrix, annot = True, cmap = \"coolwarm\", fmt = \".2f\")\n",
        "plt.title(\"Correlation Matrix\")\n",
        "plt.show()"
      ]
    },
    {
      "cell_type": "markdown",
      "metadata": {
        "id": "2MhWX0g8PaV2"
      },
      "source": [
        "Observations:\n",
        "-"
      ]
    },
    {
      "cell_type": "code",
      "execution_count": null,
      "metadata": {
        "id": "xevl3_crMAo5"
      },
      "outputs": [],
      "source": [
        "target_corr = corr_matrix['Exam_Score'].drop('Exam_Score')\n",
        "target_corr"
      ]
    },
    {
      "cell_type": "markdown",
      "metadata": {
        "id": "JFDtk0HaXhR0"
      },
      "source": [
        "Using a threshold of 0.1 to find what features to focus on:\n",
        "- Hours Studied\n",
        "- Attendance\n",
        "- Previous_Scores\n",
        "- Tutoring_Sessions\n",
        "- Parental_Involvement_Encode\n",
        "- Access_to_Resources_Encode\n",
        "- Family_Income_Encode\n",
        "- Learning_Disabilities_encoded"
      ]
    },
    {
      "cell_type": "code",
      "execution_count": null,
      "metadata": {
        "id": "tmukQnlGQ_wJ"
      },
      "outputs": [],
      "source": [
        "# Histogram & KDE\n",
        "plt.figure(figsize=(10, 6))\n",
        "\n",
        "plt.subplot(1, 2, 1)\n",
        "sns.histplot(data = df, x = 'Exam_Score', bins = 30, kde = True, color = 'g')\n",
        "plt.title(\"Exam Score Distribution\")\n",
        "\n",
        "plt.subplot(1, 2, 2)\n",
        "sns.histplot(data = df, x = 'Exam_Score', bins = 30, kde = True,  hue='Tutoring_Sessions', multiple=\"stack\")\n",
        "plt.title(\"Exam Score by Tutoring Sessions\")\n",
        "\n",
        "plt.tight_layout()\n",
        "plt.show()"
      ]
    },
    {
      "cell_type": "markdown",
      "metadata": {
        "id": "VBqFjPXPa8dl"
      },
      "source": [
        "Observations:\n",
        "- Most students have scored between 60 and 70\n",
        "\n",
        "Most students cluster near the average, with fewer at the very low or very high end\n",
        "\n",
        "Scores are fairly normally distributed; no extreme skewness. Most students perform within a narrow band\n",
        "\n",
        "- Students with more tutoring sessions (higher numbers) have exam scores slightly shifted to the right\n",
        "- Students with 0 sessions cluster slightly left"
      ]
    },
    {
      "cell_type": "code",
      "execution_count": null,
      "metadata": {
        "id": "boiAh25CYzxT"
      },
      "outputs": [],
      "source": [
        "plt.figure(figsize=(10, 6))\n",
        "\n",
        "plt.subplot(1, 2, 1)\n",
        "sns.histplot(data = df, x = 'Exam_Score', bins = 30, kde = True, hue = 'Parental_Involvement_Encode')\n",
        "plt.title(\"Exam Score Distribution by Parental Involvement\")\n",
        "\n",
        "plt.subplot(1, 2, 2)\n",
        "sns.histplot(data = df, x = 'Exam_Score', bins = 30, kde = True,  hue='Learning_Disabilities_encoded', multiple=\"stack\")\n",
        "plt.title(\"Exam Score by Learning Disabilities\")\n",
        "\n",
        "plt.tight_layout()\n",
        "plt.show()"
      ]
    },
    {
      "cell_type": "markdown",
      "metadata": {
        "id": "rXk5Z_9Hqory"
      },
      "source": [
        "- Students with high parental involvement (2) tend to score higher, with their curve shifted slightly right.\n",
        "- Low parental involvement (0) has a curve shifted left (lower average scores).\n",
        "- Students without disabilities (blue) score higher and are more concentrated around the mid-to-high 70s\n",
        "- Students with disabilities (orange) tend to score lower and are spread out more towards the lower 60s"
      ]
    },
    {
      "cell_type": "code",
      "execution_count": null,
      "metadata": {
        "id": "8rgH7JIeeGE3"
      },
      "outputs": [],
      "source": [
        "plt.figure(figsize=(15, 15))\n",
        "for i, col in enumerate(numeric_features, 1):\n",
        "  plt.subplot(3, 3, i)\n",
        "  sns.boxplot(df[col],\n",
        "              color = '#ff4252',\n",
        "              )\n",
        "  plt.title(col)\n",
        "\n",
        "plt.tight_layout()\n",
        "plt.show()"
      ]
    },
    {
      "cell_type": "code",
      "execution_count": null,
      "metadata": {
        "id": "vPevhRrUjj1d"
      },
      "outputs": [],
      "source": [
        "# numeric_features = df.select_dtypes(include = np.number).columns\n",
        "# data_numeric = df[numeric_features]\n",
        "\n",
        "# z = np.abs((data_numeric - data_numeric.mean())/ data_numeric.std())\n",
        "# threshold = 3\n",
        "# df_clean = df[(z < threshold).all(axis=1)]\n",
        "\n",
        "\n",
        "# print(f\"Original rows: {df.shape[0]}\")\n",
        "# print(f\"Rows after outlier removal: {df_clean.shape[0]}\")\n",
        "# print(f\"Rows removed: {df.shape[0] - df_clean.shape[0]}\")\n",
        "\n",
        "# df = df_clean"
      ]
    }
  ],
  "metadata": {
    "colab": {
      "private_outputs": true,
      "provenance": []
    },
    "kernelspec": {
      "display_name": "Python 3",
      "name": "python3"
    },
    "language_info": {
      "name": "python"
    }
  },
  "nbformat": 4,
  "nbformat_minor": 0
}
